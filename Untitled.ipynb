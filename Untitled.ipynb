{
 "cells": [
  {
   "cell_type": "code",
   "execution_count": 1,
   "metadata": {},
   "outputs": [],
   "source": [
    "import pandas as pd\n",
    "import pickle"
   ]
  },
  {
   "cell_type": "code",
   "execution_count": 2,
   "metadata": {},
   "outputs": [],
   "source": [
    "df= pd.read_pickle('scene_db.pkl')"
   ]
  },
  {
   "cell_type": "code",
   "execution_count": 9,
   "metadata": {},
   "outputs": [
    {
     "data": {
      "text/plain": [
       "0       [0.0, 0.0, 0.0, 0.0, 0.0, 0.0, 0.0, 0.0, 0.0, ...\n",
       "1       [-0.010719145, -0.007206239, -0.0060897116, -0...\n",
       "2       [0.008122496, 0.009704515, 0.011934796, 0.0134...\n",
       "3       [-0.04478667, -0.04738841, -0.04875786, -0.045...\n",
       "4       [0.010630248, 0.011831241, 0.013366945, 0.0144...\n",
       "                              ...                        \n",
       "5584    [-0.094528586, -0.13095163, -0.11049606, -0.03...\n",
       "5585    [0.001312528, -0.00046256706, -0.0010200411, -...\n",
       "5586    [-0.030000236, -0.029818973, -0.021532424, -0....\n",
       "5587    [0.025283983, 0.0072343, -0.015202002, -0.0264...\n",
       "5588    [-0.0012161479, -0.0010688809, -0.0012287741, ...\n",
       "Name: segment, Length: 5589, dtype: object"
      ]
     },
     "execution_count": 9,
     "metadata": {},
     "output_type": "execute_result"
    }
   ],
   "source": [
    "df['segment']"
   ]
  },
  {
   "cell_type": "code",
   "execution_count": 10,
   "metadata": {},
   "outputs": [],
   "source": [
    "indexes=df[df['name'].str.contains(\"Britney\")].index"
   ]
  },
  {
   "cell_type": "code",
   "execution_count": 12,
   "metadata": {},
   "outputs": [],
   "source": []
  },
  {
   "cell_type": "code",
   "execution_count": 4,
   "metadata": {},
   "outputs": [
    {
     "ename": "NameError",
     "evalue": "name 'new_df' is not defined",
     "output_type": "error",
     "traceback": [
      "\u001b[0;31m---------------------------------------------------------------------------\u001b[0m",
      "\u001b[0;31mNameError\u001b[0m                                 Traceback (most recent call last)",
      "\u001b[0;32m<ipython-input-4-0de95b938de7>\u001b[0m in \u001b[0;36m<module>\u001b[0;34m\u001b[0m\n\u001b[0;32m----> 1\u001b[0;31m \u001b[0mnew_df\u001b[0m\u001b[0;34m.\u001b[0m\u001b[0mto_pickle\u001b[0m\u001b[0;34m(\u001b[0m\u001b[0;34m\"song_db.pkl\"\u001b[0m\u001b[0;34m)\u001b[0m\u001b[0;34m\u001b[0m\u001b[0;34m\u001b[0m\u001b[0m\n\u001b[0m",
      "\u001b[0;31mNameError\u001b[0m: name 'new_df' is not defined"
     ]
    }
   ],
   "source": []
  },
  {
   "cell_type": "code",
   "execution_count": 5,
   "metadata": {},
   "outputs": [],
   "source": [
    "scenes= pd.read_pickle(\"chosen_scenes.pkl\")"
   ]
  },
  {
   "cell_type": "code",
   "execution_count": 6,
   "metadata": {},
   "outputs": [
    {
     "data": {
      "text/html": [
       "<div>\n",
       "<style scoped>\n",
       "    .dataframe tbody tr th:only-of-type {\n",
       "        vertical-align: middle;\n",
       "    }\n",
       "\n",
       "    .dataframe tbody tr th {\n",
       "        vertical-align: top;\n",
       "    }\n",
       "\n",
       "    .dataframe thead th {\n",
       "        text-align: right;\n",
       "    }\n",
       "</style>\n",
       "<table border=\"1\" class=\"dataframe\">\n",
       "  <thead>\n",
       "    <tr style=\"text-align: right;\">\n",
       "      <th></th>\n",
       "      <th>name</th>\n",
       "      <th>start</th>\n",
       "      <th>end</th>\n",
       "    </tr>\n",
       "  </thead>\n",
       "  <tbody>\n",
       "    <tr>\n",
       "      <th>0</th>\n",
       "      <td>Britney Spears - Toxic (Official HD Video)-LOZ...</td>\n",
       "      <td>88.046</td>\n",
       "      <td>88.630</td>\n",
       "    </tr>\n",
       "    <tr>\n",
       "      <th>1</th>\n",
       "      <td>Dua Lipa - New Rules (Official Music Video)-k2...</td>\n",
       "      <td>15.280</td>\n",
       "      <td>49.760</td>\n",
       "    </tr>\n",
       "    <tr>\n",
       "      <th>2</th>\n",
       "      <td>Taylor Swift - Look What You Made Me Do-3tmd-C...</td>\n",
       "      <td>79.204</td>\n",
       "      <td>79.788</td>\n",
       "    </tr>\n",
       "    <tr>\n",
       "      <th>3</th>\n",
       "      <td>Taylor Swift - The Man (Official Video)-AqAJLh...</td>\n",
       "      <td>75.867</td>\n",
       "      <td>85.085</td>\n",
       "    </tr>\n",
       "    <tr>\n",
       "      <th>4</th>\n",
       "      <td>Britney Spears - ...Baby One More Time (Offici...</td>\n",
       "      <td>6.381</td>\n",
       "      <td>9.843</td>\n",
       "    </tr>\n",
       "    <tr>\n",
       "      <th>5</th>\n",
       "      <td>Dua Lipa - New Rules (Official Music Video)-k2...</td>\n",
       "      <td>181.640</td>\n",
       "      <td>182.560</td>\n",
       "    </tr>\n",
       "    <tr>\n",
       "      <th>6</th>\n",
       "      <td>Taylor Swift - Look What You Made Me Do-3tmd-C...</td>\n",
       "      <td>76.618</td>\n",
       "      <td>77.244</td>\n",
       "    </tr>\n",
       "    <tr>\n",
       "      <th>7</th>\n",
       "      <td>Taylor Swift - The Man (Official Video)-AqAJLh...</td>\n",
       "      <td>67.276</td>\n",
       "      <td>75.867</td>\n",
       "    </tr>\n",
       "    <tr>\n",
       "      <th>8</th>\n",
       "      <td>Britney Spears - ...Baby One More Time (Offici...</td>\n",
       "      <td>9.843</td>\n",
       "      <td>11.053</td>\n",
       "    </tr>\n",
       "    <tr>\n",
       "      <th>9</th>\n",
       "      <td>Taylor Swift - We Are Never Ever Getting Back ...</td>\n",
       "      <td>6.590</td>\n",
       "      <td>42.960</td>\n",
       "    </tr>\n",
       "    <tr>\n",
       "      <th>10</th>\n",
       "      <td>Taylor Swift - I Knew You Were Trouble-vNoKguS...</td>\n",
       "      <td>206.873</td>\n",
       "      <td>213.505</td>\n",
       "    </tr>\n",
       "    <tr>\n",
       "      <th>11</th>\n",
       "      <td>Dua Lipa - New Rules (Official Music Video)-k2...</td>\n",
       "      <td>13.280</td>\n",
       "      <td>15.280</td>\n",
       "    </tr>\n",
       "    <tr>\n",
       "      <th>12</th>\n",
       "      <td>Dua Lipa - Don't Start Now (Official Music Vid...</td>\n",
       "      <td>19.686</td>\n",
       "      <td>20.437</td>\n",
       "    </tr>\n",
       "    <tr>\n",
       "      <th>13</th>\n",
       "      <td>Dua Lipa - Don't Start Now (Official Music Vid...</td>\n",
       "      <td>21.939</td>\n",
       "      <td>23.106</td>\n",
       "    </tr>\n",
       "    <tr>\n",
       "      <th>14</th>\n",
       "      <td>Taylor Swift - Look What You Made Me Do-3tmd-C...</td>\n",
       "      <td>69.611</td>\n",
       "      <td>70.195</td>\n",
       "    </tr>\n",
       "    <tr>\n",
       "      <th>15</th>\n",
       "      <td>Dua Lipa - Don't Start Now (Official Music Vid...</td>\n",
       "      <td>62.604</td>\n",
       "      <td>63.438</td>\n",
       "    </tr>\n",
       "    <tr>\n",
       "      <th>16</th>\n",
       "      <td>will.i.am - Scream &amp; Shout ft. Britney Spears ...</td>\n",
       "      <td>0.000</td>\n",
       "      <td>7.633</td>\n",
       "    </tr>\n",
       "  </tbody>\n",
       "</table>\n",
       "</div>"
      ],
      "text/plain": [
       "                                                 name    start      end\n",
       "0   Britney Spears - Toxic (Official HD Video)-LOZ...   88.046   88.630\n",
       "1   Dua Lipa - New Rules (Official Music Video)-k2...   15.280   49.760\n",
       "2   Taylor Swift - Look What You Made Me Do-3tmd-C...   79.204   79.788\n",
       "3   Taylor Swift - The Man (Official Video)-AqAJLh...   75.867   85.085\n",
       "4   Britney Spears - ...Baby One More Time (Offici...    6.381    9.843\n",
       "5   Dua Lipa - New Rules (Official Music Video)-k2...  181.640  182.560\n",
       "6   Taylor Swift - Look What You Made Me Do-3tmd-C...   76.618   77.244\n",
       "7   Taylor Swift - The Man (Official Video)-AqAJLh...   67.276   75.867\n",
       "8   Britney Spears - ...Baby One More Time (Offici...    9.843   11.053\n",
       "9   Taylor Swift - We Are Never Ever Getting Back ...    6.590   42.960\n",
       "10  Taylor Swift - I Knew You Were Trouble-vNoKguS...  206.873  213.505\n",
       "11  Dua Lipa - New Rules (Official Music Video)-k2...   13.280   15.280\n",
       "12  Dua Lipa - Don't Start Now (Official Music Vid...   19.686   20.437\n",
       "13  Dua Lipa - Don't Start Now (Official Music Vid...   21.939   23.106\n",
       "14  Taylor Swift - Look What You Made Me Do-3tmd-C...   69.611   70.195\n",
       "15  Dua Lipa - Don't Start Now (Official Music Vid...   62.604   63.438\n",
       "16  will.i.am - Scream & Shout ft. Britney Spears ...    0.000    7.633"
      ]
     },
     "execution_count": 6,
     "metadata": {},
     "output_type": "execute_result"
    }
   ],
   "source": [
    "scenes"
   ]
  },
  {
   "cell_type": "code",
   "execution_count": null,
   "metadata": {},
   "outputs": [],
   "source": []
  }
 ],
 "metadata": {
  "kernelspec": {
   "display_name": "Python 3",
   "language": "python",
   "name": "python3"
  },
  "language_info": {
   "codemirror_mode": {
    "name": "ipython",
    "version": 3
   },
   "file_extension": ".py",
   "mimetype": "text/x-python",
   "name": "python",
   "nbconvert_exporter": "python",
   "pygments_lexer": "ipython3",
   "version": "3.8.3"
  }
 },
 "nbformat": 4,
 "nbformat_minor": 4
}
